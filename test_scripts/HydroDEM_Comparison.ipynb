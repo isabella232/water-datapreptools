{
 "cells": [
  {
   "cell_type": "code",
   "execution_count": 1,
   "metadata": {},
   "outputs": [],
   "source": [
    "import rasterio as rs\n",
    "import numpy as np\n",
    "import matplotlib.pyplot as plt\n",
    "import pandas as pd"
   ]
  },
  {
   "cell_type": "code",
   "execution_count": 2,
   "metadata": {},
   "outputs": [],
   "source": [
    "timeDat = pd.read_csv(\"../data/comparison/comparison_notes.txt\")\n",
    "with rs.open(\"../data/comparison/hydroDEM_diff.tif\") as srs:\n",
    "    diff = srs.read(1)\n",
    "    nd = srs.nodata\n",
    "    \n",
    "diff[diff == nd] = np.NaN\n",
    "n,m = diff.shape\n",
    "diff = np.reshape(diff,(1,n*m))\n",
    "diff = diff[np.isnan(diff)==0]"
   ]
  },
  {
   "cell_type": "code",
   "execution_count": 3,
   "metadata": {},
   "outputs": [
    {
     "data": {
      "image/png": "[encoded data removed]",
      "text/plain": [
       "<Figure size 720x360 with 1 Axes>"
      ]
     },
     "metadata": {
      "needs_background": "light"
     },
     "output_type": "display_data"
    }
   ],
   "source": [
    "plt.figure(figsize=(10,5))\n",
    "plt.hist(diff,50);\n",
    "plt.ylabel(\"Count\", fontsize = 14);\n",
    "plt.xlabel(\"Difference\", fontsize = 14);\n",
    "plt.title(\"Difference in HydroDEM\");"
   ]
  },
  {
   "cell_type": "code",
   "execution_count": 8,
   "metadata": {},
   "outputs": [],
   "source": [
    "with rs.open(\"../data/comparison/fac_diff.tif\") as srs:\n",
    "    diff = srs.read(1)\n",
    "    nd = srs.nodata\n",
    "\n",
    "diff = diff.astype(np.float64)\n",
    "diff[diff == nd] = np.NaN\n",
    "n,m = diff.shape\n",
    "diff = np.reshape(diff,(1,n*m))\n",
    "diff = diff[np.isnan(diff)==0]"
   ]
  },
  {
   "cell_type": "code",
   "execution_count": 14,
   "metadata": {},
   "outputs": [
    {
     "data": {
      "image/png": "[encoded data removed]",
      "text/plain": [
       "<Figure size 720x360 with 1 Axes>"
      ]
     },
     "metadata": {
      "needs_background": "light"
     },
     "output_type": "display_data"
    }
   ],
   "source": [
    "plt.figure(figsize=(10,5))\n",
    "plt.hist(diff,50);\n",
    "plt.ylabel(\"Count\", fontsize = 14);\n",
    "plt.xlabel(\"Difference\", fontsize = 14);\n",
    "plt.title(\"Differences in Flow Accumulation\");"
   ]
  },
  {
   "cell_type": "code",
   "execution_count": 15,
   "metadata": {},
   "outputs": [],
   "source": [
    "def get_seconds(time):\n",
    "    hours = float(time.split(\":\")[0])\n",
    "    minutes = float(time.split(\":\")[1])\n",
    "    seconds = float(time.split(\":\")[2])\n",
    "    \n",
    "    return (hours*60.*60.) + (minutes*60.) + seconds"
   ]
  },
  {
   "cell_type": "code",
   "execution_count": 17,
   "metadata": {},
   "outputs": [],
   "source": [
    "timeDat['seconds'] = timeDat['time'].map(get_seconds)"
   ]
  },
  {
   "cell_type": "code",
   "execution_count": 18,
   "metadata": {},
   "outputs": [
    {
     "data": {
      "text/html": [
       "<div>\n",
       "<style scoped>\n",
       "    .dataframe tbody tr th:only-of-type {\n",
       "        vertical-align: middle;\n",
       "    }\n",
       "\n",
       "    .dataframe tbody tr th {\n",
       "        vertical-align: top;\n",
       "    }\n",
       "\n",
       "    .dataframe thead th {\n",
       "        text-align: right;\n",
       "    }\n",
       "</style>\n",
       "<table border=\"1\" class=\"dataframe\">\n",
       "  <thead>\n",
       "    <tr style=\"text-align: right;\">\n",
       "      <th></th>\n",
       "      <th>function</th>\n",
       "      <th>version</th>\n",
       "      <th>HUC</th>\n",
       "      <th>time</th>\n",
       "      <th>python</th>\n",
       "      <th>seconds</th>\n",
       "    </tr>\n",
       "  </thead>\n",
       "  <tbody>\n",
       "    <tr>\n",
       "      <th>0</th>\n",
       "      <td>hydroDEM</td>\n",
       "      <td>v4</td>\n",
       "      <td>1080206</td>\n",
       "      <td>00:11:25</td>\n",
       "      <td>py2</td>\n",
       "      <td>685.0</td>\n",
       "    </tr>\n",
       "    <tr>\n",
       "      <th>1</th>\n",
       "      <td>hydroDEM</td>\n",
       "      <td>v3.10</td>\n",
       "      <td>1080206</td>\n",
       "      <td>00:15:17</td>\n",
       "      <td>py2</td>\n",
       "      <td>917.0</td>\n",
       "    </tr>\n",
       "    <tr>\n",
       "      <th>2</th>\n",
       "      <td>hydroDEM</td>\n",
       "      <td>v4</td>\n",
       "      <td>1080206</td>\n",
       "      <td>00:09:59</td>\n",
       "      <td>py3</td>\n",
       "      <td>599.0</td>\n",
       "    </tr>\n",
       "  </tbody>\n",
       "</table>\n",
       "</div>"
      ],
      "text/plain": [
       "   function version      HUC      time python  seconds\n",
       "0  hydroDEM      v4  1080206  00:11:25    py2    685.0\n",
       "1  hydroDEM   v3.10  1080206  00:15:17    py2    917.0\n",
       "2  hydroDEM      v4  1080206  00:09:59    py3    599.0"
      ]
     },
     "execution_count": 18,
     "metadata": {},
     "output_type": "execute_result"
    }
   ],
   "source": [
    "timeDat"
   ]
  },
  {
   "cell_type": "code",
   "execution_count": 19,
   "metadata": {},
   "outputs": [],
   "source": [
    "combos = [\"v3.10:v4 Python2:Python2\",\"v3.10:v4 Python2:Python3\"]\n",
    "versions = ['v4','v4']\n",
    "pythons = ['py2','py3']\n",
    "speedups = []\n",
    "orig = timeDat.loc[timeDat['version'] == 'v3.10','seconds'].values[0]\n",
    "for ver, py in zip(versions,pythons):\n",
    "    execTime = timeDat.loc[(timeDat['version'] == ver) & (timeDat['python'] == py),'seconds'].values[0]\n",
    "    \n",
    "    speedups.append(round(orig/execTime,2))"
   ]
  },
  {
   "cell_type": "code",
   "execution_count": 20,
   "metadata": {},
   "outputs": [
    {
     "data": {
      "text/plain": [
       "[1.34, 1.53]"
      ]
     },
     "execution_count": 20,
     "metadata": {},
     "output_type": "execute_result"
    }
   ],
   "source": [
    "speedups"
   ]
  },
  {
   "cell_type": "code",
   "execution_count": 21,
   "metadata": {},
   "outputs": [],
   "source": [
    "outDat = pd.DataFrame()\n",
    "outDat['combo'] = combos\n",
    "outDat['speedup'] = speedups"
   ]
  },
  {
   "cell_type": "code",
   "execution_count": 23,
   "metadata": {},
   "outputs": [
    {
     "data": {
      "image/png": "[encoded data removed]",
      "text/plain": [
       "<Figure size 432x288 with 1 Axes>"
      ]
     },
     "metadata": {
      "needs_background": "light"
     },
     "output_type": "display_data"
    }
   ],
   "source": [
    "outDat.plot.bar(legend=False)\n",
    "plt.xticks([0,1],labels=combos, rotation=0);\n",
    "plt.ylabel('Speedup (origTime/newTime)', fontsize = 14);"
   ]
  },
  {
   "cell_type": "code",
   "execution_count": null,
   "metadata": {},
   "outputs": [],
   "source": []
  }
 ],
 "metadata": {
  "kernelspec": {
   "display_name": "Python 3",
   "language": "python",
   "name": "python3"
  },
  "language_info": {
   "codemirror_mode": {
    "name": "ipython",
    "version": 3
   },
   "file_extension": ".py",
   "mimetype": "text/x-python",
   "name": "python",
   "nbconvert_exporter": "python",
   "pygments_lexer": "ipython3",
   "version": "3.6.8"
  }
 },
 "nbformat": 4,
 "nbformat_minor": 2
}
